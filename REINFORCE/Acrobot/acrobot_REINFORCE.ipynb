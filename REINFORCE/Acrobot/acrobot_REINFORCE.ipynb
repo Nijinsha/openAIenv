{
 "cells": [
  {
   "cell_type": "code",
   "execution_count": 1,
   "metadata": {},
   "outputs": [],
   "source": [
    "import gym \n",
    "import torch\n",
    "import torch.nn as nn\n",
    "import torch.nn.functional as F\n",
    "import matplotlib.pyplot as plt\n",
    "import numpy as np\n",
    "import random\n",
    "from torch.distributions import Categorical\n",
    "from collections import deque\n",
    "import torch.optim as optim\n",
    "import copy\n",
    "import time\n",
    "from gym import wrappers\n",
    "%matplotlib inline"
   ]
  },
  {
   "cell_type": "code",
   "execution_count": 2,
   "metadata": {},
   "outputs": [
    {
     "data": {
      "text/plain": [
       "3"
      ]
     },
     "execution_count": 2,
     "metadata": {},
     "output_type": "execute_result"
    }
   ],
   "source": [
    "env = gym.make('Acrobot-v1')\n",
    "action_size = env.action_space.n\n",
    "action_size"
   ]
  },
  {
   "cell_type": "code",
   "execution_count": 3,
   "metadata": {},
   "outputs": [
    {
     "data": {
      "text/plain": [
       "0"
      ]
     },
     "execution_count": 3,
     "metadata": {},
     "output_type": "execute_result"
    }
   ],
   "source": [
    "action = env.action_space.sample()\n",
    "action"
   ]
  },
  {
   "cell_type": "code",
   "execution_count": 4,
   "metadata": {},
   "outputs": [
    {
     "data": {
      "text/plain": [
       "6"
      ]
     },
     "execution_count": 4,
     "metadata": {},
     "output_type": "execute_result"
    }
   ],
   "source": [
    "state_low = env.observation_space.low\n",
    "state_high = env.observation_space.high\n",
    "state_size = len(state_high)\n",
    "state_size"
   ]
  },
  {
   "cell_type": "code",
   "execution_count": 5,
   "metadata": {},
   "outputs": [
    {
     "name": "stdout",
     "output_type": "stream",
     "text": [
      "[ -1.        -1.        -1.        -1.       -12.566371 -28.274334] [ 1.        1.        1.        1.       12.566371 28.274334]\n"
     ]
    }
   ],
   "source": [
    "print(state_low, state_high)"
   ]
  },
  {
   "cell_type": "code",
   "execution_count": 6,
   "metadata": {},
   "outputs": [],
   "source": [
    "class Model(nn.Module):\n",
    "    def __init__(self, state_size, action_size):\n",
    "        super(Model, self).__init__()\n",
    "        \n",
    "        self.seed = torch.manual_seed(7)\n",
    "        self.fc1 = nn.Linear(state_size, 32)\n",
    "        self.fc2 = nn.Linear(32, 64)\n",
    "        self.fc3 = nn.Linear(64, action_size)\n",
    "        \n",
    "        self.dropout = nn.Dropout(p=0.2)\n",
    "        \n",
    "    def forward(self, state):\n",
    "        state = torch.from_numpy(state).float().unsqueeze(0)\n",
    "        \n",
    "#         self.dropout(state)\n",
    "        state = F.relu(self.fc1(state))\n",
    "        state = F.relu(self.fc2(state))\n",
    "#         self.dropout(state)\n",
    "        action_prob = F.softmax(self.fc3(state), dim=1)\n",
    "        \n",
    "        m = Categorical(action_prob)\n",
    "        action = m.sample()\n",
    "        \n",
    "        return action.item(), m.log_prob(action)\n",
    "        "
   ]
  },
  {
   "cell_type": "code",
   "execution_count": 7,
   "metadata": {},
   "outputs": [
    {
     "data": {
      "text/plain": [
       "Model(\n",
       "  (fc1): Linear(in_features=6, out_features=32, bias=True)\n",
       "  (fc2): Linear(in_features=32, out_features=64, bias=True)\n",
       "  (fc3): Linear(in_features=64, out_features=3, bias=True)\n",
       "  (dropout): Dropout(p=0.2, inplace=False)\n",
       ")"
      ]
     },
     "execution_count": 7,
     "metadata": {},
     "output_type": "execute_result"
    }
   ],
   "source": [
    "model = Model(state_size, action_size)\n",
    "model"
   ]
  },
  {
   "cell_type": "code",
   "execution_count": 58,
   "metadata": {},
   "outputs": [],
   "source": [
    "optimizer = optim.Adam(model.parameters(), lr=0.01)"
   ]
  },
  {
   "cell_type": "code",
   "execution_count": 75,
   "metadata": {},
   "outputs": [],
   "source": [
    "def REINFORCE():\n",
    "    n_episode = 5000\n",
    "    scores_deque = deque(maxlen=100)\n",
    "    scores = []\n",
    "    gamma = 1.0\n",
    "    for i_episode in range(n_episode+1):\n",
    "        state = env.reset()\n",
    "        done = False\n",
    "        action_log_prob = []\n",
    "        all_rewards = []\n",
    "        while not done:\n",
    "#             state_dis = discretize_state(state)\n",
    "            action, log_prob = model(state)\n",
    "            action_log_prob.append(log_prob)\n",
    "            state, reward, done, _ = env.step(action)\n",
    "            all_rewards.append(reward)\n",
    "            if done:\n",
    "                break\n",
    "                \n",
    "        scores.append(sum(all_rewards))\n",
    "        scores_deque.append(sum(all_rewards))\n",
    "                \n",
    "        discounts = [gamma**i  for i in range(len(all_rewards))]\n",
    "        total_rewards = sum([a*b for a,b in zip(all_rewards, discounts)])\n",
    "        policy_loss = []\n",
    "        \n",
    "        for log_prob in action_log_prob:\n",
    "            policy_loss.append(-log_prob*total_rewards)\n",
    "            \n",
    "        policy_loss = torch.cat(policy_loss).sum()\n",
    "        \n",
    "        optimizer.zero_grad()\n",
    "        policy_loss.backward()\n",
    "        optimizer.step()\n",
    "        \n",
    "        print('\\rEpisode {} \\tLoss {} '.format(i_episode, np.mean(scores_deque)), end=\"\")\n",
    "        \n",
    "        if i_episode%100==0:\n",
    "            print('\\rEpisode {} \\tLoss {} '.format(i_episode, np.mean(scores_deque)))\n",
    "            \n",
    "        if np.mean(scores_deque) >= -100.0 and i_episode>=100:\n",
    "            print('\\rEpisode {} \\tLoss {} '.format(i_episode, np.mean(scores_deque)))\n",
    "            torch.save(model.state_dict(), 'acrobot_checkpoint_1.pth')\n",
    "            break\n",
    "    return scores\n",
    "        \n",
    "            \n",
    "        "
   ]
  },
  {
   "cell_type": "code",
   "execution_count": 363,
   "metadata": {},
   "outputs": [
    {
     "name": "stdout",
     "output_type": "stream",
     "text": [
      "Episode 0 \tLoss -500.0 \n",
      "Episode 100 \tLoss -225.03 3636363637 \n",
      "Episode 200 \tLoss -156.26 \n",
      "Episode 300 \tLoss -163.44 \n",
      "Episode 381 \tLoss -99.82  \n"
     ]
    }
   ],
   "source": [
    "scores = REINFORCE()"
   ]
  },
  {
   "cell_type": "code",
   "execution_count": 370,
   "metadata": {},
   "outputs": [
    {
     "data": {
      "image/png": "[encoded data removed]",
      "text/plain": [
       "<Figure size 432x288 with 1 Axes>"
      ]
     },
     "metadata": {
      "needs_background": "light"
     },
     "output_type": "display_data"
    }
   ],
   "source": [
    "plt.plot(np.linspace(0, len(scores), num=len(scores)), scores)\n",
    "plt.show()"
   ]
  },
  {
   "cell_type": "code",
   "execution_count": 396,
   "metadata": {},
   "outputs": [
    {
     "name": "stdout",
     "output_type": "stream",
     "text": [
      "-71.0\n"
     ]
    }
   ],
   "source": [
    "state = env.reset()\n",
    "done = False\n",
    "score = 0\n",
    "model.load_state_dict(torch.load('acrobot_checkpoint.pth'))\n",
    "model.eval()\n",
    "while not done:\n",
    "#     time.sleep(0.01)\n",
    "    env.render()\n",
    "    action, _ = model(state)\n",
    "    state, reward, done, _ = env.step(action)\n",
    "    score += reward\n",
    "    if done:\n",
    "        break\n",
    "        \n",
    "print(score)"
   ]
  },
  {
   "cell_type": "code",
   "execution_count": 12,
   "metadata": {},
   "outputs": [],
   "source": [
    "class NEWModel(nn.Module):\n",
    "    def __init__(self, state_size, action_size):\n",
    "        super(NEWModel, self).__init__()\n",
    "        \n",
    "        self.seed = torch.manual_seed(7)\n",
    "        self.fc1 = nn.Linear(state_size, 32)\n",
    "        self.fc2 = nn.Linear(32, 64)\n",
    "        self.fc3 = nn.Linear(64, action_size)\n",
    "        \n",
    "        self.dropout = nn.Dropout(p=0.2)\n",
    "        \n",
    "    def forward(self, state):\n",
    "        state = torch.from_numpy(state).float().unsqueeze(0)\n",
    "        \n",
    "        self.dropout(state)\n",
    "        state = F.relu(self.fc1(state))\n",
    "        self.dropout(state)\n",
    "        state = F.relu(self.fc2(state))\n",
    "        self.dropout(state)\n",
    "        action_prob = F.softmax(self.fc3(state), dim=1)\n",
    "        \n",
    "        m = Categorical(action_prob)\n",
    "        action = m.sample()\n",
    "        \n",
    "        return action.item(), m.log_prob(action)\n",
    "        "
   ]
  },
  {
   "cell_type": "code",
   "execution_count": 18,
   "metadata": {},
   "outputs": [
    {
     "data": {
      "text/plain": [
       "NEWModel(\n",
       "  (fc1): Linear(in_features=6, out_features=32, bias=True)\n",
       "  (fc2): Linear(in_features=32, out_features=64, bias=True)\n",
       "  (fc3): Linear(in_features=64, out_features=3, bias=True)\n",
       "  (dropout): Dropout(p=0.2, inplace=False)\n",
       ")"
      ]
     },
     "execution_count": 18,
     "metadata": {},
     "output_type": "execute_result"
    }
   ],
   "source": [
    "newModel = NEWModel(state_size, action_size)\n",
    "newOptimizer = optim.Adam(newModel.parameters(), lr=0.01)\n",
    "newModel"
   ]
  },
  {
   "cell_type": "code",
   "execution_count": 14,
   "metadata": {},
   "outputs": [],
   "source": [
    "def NEWREINFORCE():\n",
    "    n_episode = 5000\n",
    "    scores_deque = deque(maxlen=100)\n",
    "    scores = []\n",
    "    gamma = 1.0\n",
    "    for i_episode in range(n_episode+1):\n",
    "        state = env.reset()\n",
    "        done = False\n",
    "        action_log_prob = []\n",
    "        all_rewards = []\n",
    "        while not done:\n",
    "            action, log_prob = newModel(state)\n",
    "            action_log_prob.append(log_prob)\n",
    "            state, reward, done, _ = env.step(action)\n",
    "            all_rewards.append(reward)\n",
    "            if done:\n",
    "                break\n",
    "                \n",
    "        scores.append(sum(all_rewards))\n",
    "        scores_deque.append(sum(all_rewards))\n",
    "                \n",
    "        discounts = [gamma**i  for i in range(len(all_rewards))]\n",
    "        total_rewards = sum([a*b for a,b in zip(all_rewards, discounts)])\n",
    "        policy_loss = []\n",
    "        \n",
    "        for log_prob in action_log_prob:\n",
    "            policy_loss.append(-log_prob*total_rewards)\n",
    "            \n",
    "        policy_loss = torch.cat(policy_loss).sum()\n",
    "        \n",
    "        newOptimizer.zero_grad()\n",
    "        policy_loss.backward()\n",
    "        newOptimizer.step()\n",
    "        \n",
    "        print('\\rEpisode {} \\tLoss {} '.format(i_episode, np.mean(scores_deque)), end=\"\")\n",
    "        \n",
    "        if i_episode%100==0:\n",
    "            print('\\rEpisode {} \\tLoss {} '.format(i_episode, np.mean(scores_deque)))\n",
    "            \n",
    "        if np.mean(scores_deque) > -90.0:\n",
    "            print('\\rEpisode {} \\tLoss {} '.format(i_episode, np.mean(scores_deque)))\n",
    "            torch.save(newModel.state_dict(), 'NEWAcrobot_checkpoint.pth')\n",
    "            break\n",
    "    return scores\n",
    "        "
   ]
  },
  {
   "cell_type": "code",
   "execution_count": 15,
   "metadata": {},
   "outputs": [
    {
     "name": "stdout",
     "output_type": "stream",
     "text": [
      "Episode 0 \tLoss -500.0 \n",
      "Episode 100 \tLoss -361.97 767676768  \n",
      "Episode 200 \tLoss -169.2  \n",
      "Episode 300 \tLoss -122.71 \n",
      "Episode 400 \tLoss -113.5  \n",
      "Episode 500 \tLoss -99.46  \n",
      "Episode 600 \tLoss -96.55  \n",
      "Episode 700 \tLoss -98.38 \n",
      "Episode 787 \tLoss -89.29 \n"
     ]
    }
   ],
   "source": [
    "newScores = NEWREINFORCE()"
   ]
  },
  {
   "cell_type": "code",
   "execution_count": 17,
   "metadata": {},
   "outputs": [
    {
     "data": {
      "image/png": "[encoded data removed]",
      "text/plain": [
       "<Figure size 432x288 with 1 Axes>"
      ]
     },
     "metadata": {
      "needs_background": "light"
     },
     "output_type": "display_data"
    }
   ],
   "source": [
    "plt.plot(np.linspace(0, len(newScores), num=len(newScores)), newScores)\n",
    "plt.show()"
   ]
  },
  {
   "cell_type": "code",
   "execution_count": 21,
   "metadata": {},
   "outputs": [],
   "source": [
    "env.close()"
   ]
  },
  {
   "cell_type": "code",
   "execution_count": null,
   "metadata": {},
   "outputs": [],
   "source": []
  }
 ],
 "metadata": {
  "kernelspec": {
   "display_name": "Python 3",
   "language": "python",
   "name": "python3"
  },
  "language_info": {
   "codemirror_mode": {
    "name": "ipython",
    "version": 3
   },
   "file_extension": ".py",
   "mimetype": "text/x-python",
   "name": "python",
   "nbconvert_exporter": "python",
   "pygments_lexer": "ipython3",
   "version": "3.6.8"
  }
 },
 "nbformat": 4,
 "nbformat_minor": 4
}
