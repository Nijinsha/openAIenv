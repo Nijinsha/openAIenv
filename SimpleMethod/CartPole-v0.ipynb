{
 "cells": [
  {
   "cell_type": "code",
   "execution_count": 1,
   "metadata": {},
   "outputs": [],
   "source": [
    "import gym\n",
    "import numpy as np\n",
    "from gym import wrappers"
   ]
  },
  {
   "cell_type": "code",
   "execution_count": 2,
   "metadata": {},
   "outputs": [],
   "source": [
    "env = gym.make('CartPole-v0')"
   ]
  },
  {
   "cell_type": "code",
   "execution_count": 3,
   "metadata": {},
   "outputs": [
    {
     "name": "stdout",
     "output_type": "stream",
     "text": [
      "(4,)\n"
     ]
    },
    {
     "data": {
      "text/plain": [
       "2"
      ]
     },
     "execution_count": 3,
     "metadata": {},
     "output_type": "execute_result"
    }
   ],
   "source": [
    "states = env.observation_space\n",
    "print(states.shape)\n",
    "action = env.action_space.n\n",
    "action"
   ]
  },
  {
   "cell_type": "code",
   "execution_count": 4,
   "metadata": {},
   "outputs": [
    {
     "data": {
      "text/plain": [
       "True"
      ]
     },
     "execution_count": 4,
     "metadata": {},
     "output_type": "execute_result"
    }
   ],
   "source": [
    "obs = env.reset()\n",
    "env.render()"
   ]
  },
  {
   "cell_type": "code",
   "execution_count": 5,
   "metadata": {},
   "outputs": [
    {
     "name": "stdout",
     "output_type": "stream",
     "text": [
      "22\n"
     ]
    }
   ],
   "source": [
    "count = 0 \n",
    "state = env.reset()\n",
    "done = False\n",
    "while not done:\n",
    "    action = env.action_space.sample()\n",
    "    count += 1\n",
    "    state, reward, done, _ = env.step(action)\n",
    "#     env.render()\n",
    "    if done:\n",
    "        print(count)\n",
    "        break"
   ]
  },
  {
   "cell_type": "code",
   "execution_count": 6,
   "metadata": {},
   "outputs": [
    {
     "data": {
      "text/plain": [
       "array([ 0.02848554,  0.20776847,  0.3508915 , -1.65664126])"
      ]
     },
     "execution_count": 6,
     "metadata": {},
     "output_type": "execute_result"
    }
   ],
   "source": [
    "x = np.zeros(4)\n",
    "x.shape\n",
    "y = np.random.randn(4)\n",
    "y"
   ]
  },
  {
   "cell_type": "code",
   "execution_count": 7,
   "metadata": {
    "scrolled": false
   },
   "outputs": [
    {
     "name": "stdout",
     "output_type": "stream",
     "text": [
      "9.0\n",
      "115.0\n",
      "115.0\n",
      "200.0\n",
      "200.0\n",
      "200.0\n",
      "200.0\n",
      "200.0\n",
      "200.0\n",
      "200.0\n"
     ]
    }
   ],
   "source": [
    "best_weights = np.zeros(4)\n",
    "best_length = 0\n",
    "\n",
    "\n",
    "for i in range(100):\n",
    "    new_weights = np.random.randn(4)\n",
    "    state = env.reset()\n",
    "    done = False\n",
    "    reward_recv = 0\n",
    "    length = []\n",
    "    \n",
    "    for j in range(100):\n",
    "        while not done:\n",
    "            action = 1 if np.dot(state,new_weights) > 0 else 0\n",
    "            state, reward, done, _ = env.step(action)\n",
    "            reward_recv += reward\n",
    "    #         env.render()\n",
    "            if done:\n",
    "                break\n",
    "        # append the reward to the array\n",
    "        length.append(reward_recv)\n",
    "    ## determine the avg reward collected over 100 games\n",
    "    avg_length = float(sum(length) / len(length))\n",
    "    \n",
    "    if (avg_length) > best_length:\n",
    "        best_length = avg_length\n",
    "        best_weights = new_weights\n",
    "    \n",
    "    if i % 10 == 0:\n",
    "#         pass\n",
    "        print(best_length)\n",
    "        "
   ]
  },
  {
   "cell_type": "code",
   "execution_count": 8,
   "metadata": {},
   "outputs": [],
   "source": [
    "import time"
   ]
  },
  {
   "cell_type": "code",
   "execution_count": 11,
   "metadata": {},
   "outputs": [
    {
     "name": "stdout",
     "output_type": "stream",
     "text": [
      "200.0\n"
     ]
    }
   ],
   "source": [
    "reward_recv = 0\n",
    "done = False\n",
    "env = wrappers.Monitor(env, 'cartpole', force=True)\n",
    "state = env.reset()\n",
    "\n",
    "while not done:\n",
    "    time.sleep(0.01)\n",
    "    env.render()\n",
    "    # use those best weights to compute the action\n",
    "    action = 1 if np.dot(best_weights, state) > 0 else 0\n",
    "    state, reward, done, _ = env.step(action)\n",
    "    reward_recv += reward\n",
    "    if done:\n",
    "        print(reward_recv)\n",
    "        break\n",
    "    "
   ]
  },
  {
   "cell_type": "code",
   "execution_count": 12,
   "metadata": {},
   "outputs": [],
   "source": [
    "env.close()"
   ]
  },
  {
   "cell_type": "code",
   "execution_count": null,
   "metadata": {},
   "outputs": [],
   "source": []
  }
 ],
 "metadata": {
  "kernelspec": {
   "display_name": "Python 3",
   "language": "python",
   "name": "python3"
  },
  "language_info": {
   "codemirror_mode": {
    "name": "ipython",
    "version": 3
   },
   "file_extension": ".py",
   "mimetype": "text/x-python",
   "name": "python",
   "nbconvert_exporter": "python",
   "pygments_lexer": "ipython3",
   "version": "3.6.8"
  }
 },
 "nbformat": 4,
 "nbformat_minor": 2
}
