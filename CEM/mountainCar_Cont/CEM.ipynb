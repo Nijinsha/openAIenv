{
 "cells": [
  {
   "cell_type": "markdown",
   "metadata": {},
   "source": [
    "# Cross-Entropy Method\n",
    "\n",
    "---\n",
    "\n",
    "In this notebook, we will train a Cross-Entropy Method with OpenAI Gym's MountainCarContinuous environment."
   ]
  },
  {
   "cell_type": "markdown",
   "metadata": {},
   "source": [
    "### 1. Import the Necessary Packages"
   ]
  },
  {
   "cell_type": "code",
   "execution_count": 3,
   "metadata": {},
   "outputs": [
    {
     "name": "stdout",
     "output_type": "stream",
     "text": [
      "Collecting pyvirtualdisplay\n",
      "  Using cached https://files.pythonhosted.org/packages/69/ec/8221a07850d69fa3c57c02e526edd23d18c7c05d58ed103e3b19172757c1/PyVirtualDisplay-0.2.5-py2.py3-none-any.whl\n",
      "Collecting EasyProcess (from pyvirtualdisplay)\n",
      "  Using cached https://files.pythonhosted.org/packages/32/8f/88d636f1da22a3c573259e44cfefb46a117d3f9432e2c98b1ab4a21372ad/EasyProcess-0.2.10-py2.py3-none-any.whl\n",
      "Installing collected packages: EasyProcess, pyvirtualdisplay\n",
      "Successfully installed EasyProcess-0.2.10 pyvirtualdisplay-0.2.5\n"
     ]
    },
    {
     "data": {
      "text/plain": [
       "device(type='cuda', index=0)"
      ]
     },
     "execution_count": 3,
     "metadata": {},
     "output_type": "execute_result"
    }
   ],
   "source": [
    "import gym\n",
    "import torch\n",
    "import torch.nn as nn\n",
    "import torch.nn.functional as F\n",
    "import torch.optim as optim\n",
    "import numpy as np\n",
    "import math\n",
    "from collections import deque, namedtuple\n",
    "import matplotlib.pyplot as plt\n",
    "from gym import wrappers\n",
    "%matplotlib inline\n",
    "\n",
    "!python -m pip install pyvirtualdisplay\n",
    "from pyvirtualdisplay import Display\n",
    "display = Display(visible=0, size=(1400, 900))\n",
    "display.start()\n",
    "\n",
    "is_ipython = 'inline' in plt.get_backend()\n",
    "if is_ipython:\n",
    "    from IPython import display\n",
    "\n",
    "plt.ion()\n",
    "device = torch.device('cuda:0' if torch.cuda.is_available() else 'cpu')\n",
    "device"
   ]
  },
  {
   "cell_type": "markdown",
   "metadata": {},
   "source": [
    "### Observer environment states"
   ]
  },
  {
   "cell_type": "code",
   "execution_count": 4,
   "metadata": {},
   "outputs": [
    {
     "name": "stdout",
     "output_type": "stream",
     "text": [
      "[-1.2  -0.07] [0.6  0.07] [-1.] [1.]\n"
     ]
    },
    {
     "name": "stderr",
     "output_type": "stream",
     "text": [
      "/home/sans/.local/lib/python3.6/site-packages/gym/logger.py:30: UserWarning: \u001b[33mWARN: Box bound precision lowered by casting to float32\u001b[0m\n",
      "  warnings.warn(colorize('%s: %s'%('WARN', msg % args), 'yellow'))\n"
     ]
    }
   ],
   "source": [
    "env = gym.make(\"MountainCarContinuous-v0\") \n",
    "state_low = env.observation_space.low\n",
    "state_high = (env.observation_space.high)\n",
    "action_low = env.action_space.low\n",
    "action_high = env.action_space.high\n",
    "print(state_low, state_high, action_low, action_high)"
   ]
  },
  {
   "cell_type": "markdown",
   "metadata": {},
   "source": [
    "### Since it is a continous state space, you can discretize the states into discrete states. \n",
    "I have not used the discretization in the notebook. But its a good thing to know about !\n",
    "You can either do it the way described below or you can use - linspace to create bins and \n",
    "numpy's digitize method to convert them into discrete states."
   ]
  },
  {
   "cell_type": "code",
   "execution_count": 3,
   "metadata": {},
   "outputs": [],
   "source": [
    "def get_discret_states(sample):\n",
    "    car_pos = np.around(sample[0]*10, decimals=1).astype(np.int64)\n",
    "    car_vel = np.around(sample[1]*100, decimals=1).astype(np.int64)\n",
    "    \n",
    "    return np.array((car_pos, car_vel))"
   ]
  },
  {
   "cell_type": "code",
   "execution_count": 5,
   "metadata": {},
   "outputs": [
    {
     "name": "stdout",
     "output_type": "stream",
     "text": [
      "2 1\n"
     ]
    }
   ],
   "source": [
    "state_size = env.observation_space.shape[0]\n",
    "action_size = env.action_space.shape[0]\n",
    "print(state_size, action_size)"
   ]
  },
  {
   "cell_type": "code",
   "execution_count": 6,
   "metadata": {},
   "outputs": [],
   "source": [
    "sigma = 0.5"
   ]
  },
  {
   "cell_type": "markdown",
   "metadata": {},
   "source": [
    "### 2. Instantiate the Environment and Agent"
   ]
  },
  {
   "cell_type": "code",
   "execution_count": 7,
   "metadata": {},
   "outputs": [
    {
     "name": "stderr",
     "output_type": "stream",
     "text": [
      "/home/sans/.local/lib/python3.6/site-packages/torch/nn/functional.py:1340: UserWarning: nn.functional.tanh is deprecated. Use torch.tanh instead.\n",
      "  warnings.warn(\"nn.functional.tanh is deprecated. Use torch.tanh instead.\")\n"
     ]
    },
    {
     "name": "stdout",
     "output_type": "stream",
     "text": [
      "(65,) -11.730234693151488\n"
     ]
    }
   ],
   "source": [
    "class Policy(nn.Module):\n",
    "    def __init__(self, state_size, action_size):\n",
    "        super(Policy, self).__init__()\n",
    "        \n",
    "        self.state_size = state_size\n",
    "        self.action_size = action_size\n",
    "        self.hc1_size = 16\n",
    "        self.hc2_size = 16\n",
    "        \n",
    "        self.fc1 = nn.Linear(state_size, self.hc1_size)\n",
    "#         self.fc2 = nn.Linear(self.hc1_size, self.hc2_size)\n",
    "        self.fc2 = nn.Linear(self.hc2_size, 1)\n",
    "        \n",
    "    def forward(self, x):\n",
    "        x = F.relu(self.fc1(x))\n",
    "#         x = F.relu(self.fc2(x))\n",
    "        \n",
    "        return F.tanh(self.fc2(x)).cpu().data\n",
    "    \n",
    "    def set_weights(self, weights):\n",
    "        fc1_end = (self.state_size * self.hc1_size) + self.hc1_size\n",
    "#         fc2_end = fc1_end + (self.hc1_size * self.hc2_size) + self.hc2_size\n",
    "        \n",
    "        fc1_W = torch.from_numpy(weights[:self.state_size*self.hc1_size]).reshape(self.state_size, self.hc1_size)\n",
    "        fc1_B = torch.from_numpy(weights[self.state_size*self.hc1_size:fc1_end])\n",
    "        \n",
    "        fc2_W = torch.from_numpy(weights[fc1_end:fc1_end + (self.hc1_size*self.action_size)]).reshape(self.hc1_size, self.action_size)\n",
    "        fc2_B = torch.from_numpy(weights[fc1_end + (self.hc1_size*self.action_size):])\n",
    "        \n",
    "#         fc3_W = torch.from_numpy(weights[fc2_end:fc2_end+(self.hc2_size*self.action_size)]).reshape(self.hc2_size,self.action_size)\n",
    "#         fc3_B = torch.from_numpy(weights[fc2_end+(self.hc2_size*self.action_size):])\n",
    "                                         \n",
    "        self.fc1.weight.data.copy_(fc1_W.view_as(self.fc1.weight.data))\n",
    "        self.fc1.bias.data.copy_(fc1_B.view_as(self.fc1.bias.data))\n",
    "        \n",
    "        self.fc2.weight.data.copy_(fc2_W.view_as(self.fc2.weight.data))\n",
    "        self.fc2.bias.data.copy_(fc2_B.view_as(self.fc2.bias.data))\n",
    "        \n",
    "#         self.fc3.weight.data.copy_(fc3_W.view_as(self.fc3.weight.data))\n",
    "#         self.fc3.bias.data.copy_(fc3_B.view_as(self.fc3.bias.data))\n",
    "        \n",
    "    def get_weights_dim(self):\n",
    "        return (self.state_size+1)*self.hc1_size + (self.hc1_size+1)*self.action_size\n",
    "#         return (self.state_size+1)*self.hc1_size + (self.hc1_size+1)*self.hc2_size + (self.hc2_size+1)*self.action_size\n",
    "    \n",
    "    def evaluate_weights(self, weights, gamma=1.0, max_t=5000):\n",
    "        self.set_weights(weights)\n",
    "        episode_return = 0.0\n",
    "        state = env.reset()\n",
    "        for t in range(max_t):\n",
    "            state = torch.from_numpy(state).float().to(device)\n",
    "            action = self.forward(state)\n",
    "            state, reward, done, _ = env.step(action)\n",
    "            episode_return += reward * math.pow(gamma, t)\n",
    "            if done:\n",
    "                break\n",
    "        return episode_return\n",
    "        \n",
    "agent = Policy(state_size, action_size).to(device) \n",
    "                                         \n",
    "best_weights = sigma*np.random.randn(agent.get_weights_dim())\n",
    "r = agent.evaluate_weights(best_weights)\n",
    "print(best_weights.shape, r)    "
   ]
  },
  {
   "cell_type": "markdown",
   "metadata": {},
   "source": [
    "### 3. Train the Agent with a Cross-Entropy Method\n",
    "\n",
    "Run the code cell below to train the agent from scratch.  Alternatively, you can skip to the next code cell to load the pre-trained weights from file.\n",
    "\n",
    "It is a good thing to know that un-necessarily increasing the complexity could lead to delayed training. \n",
    "I previously used a neural network with 2 hidden layers, each with 1024 nodes - it took me forever to train it.\n",
    "But then I used a single hidden layer with only 16 nodes and it trained in only 140 episodes.\n",
    "\n",
    "Also, a good thing to know the difference the value of gamma can make. A value of 0.9 and 1.0 might not seem like a lot, but since it a cummulative reward and rewards are discounted as the power of gamma. It can make a huge difference. "
   ]
  },
  {
   "cell_type": "code",
   "execution_count": null,
   "metadata": {},
   "outputs": [
    {
     "name": "stdout",
     "output_type": "stream",
     "text": [
      "Episode 140\tAverage Score: 86.59\tReward: 95.23882373355808   3 "
     ]
    }
   ],
   "source": [
    "def cem(n_iter = 1000, w_set=50, e_id=10, sig=0.5):\n",
    "    episodes = n_iter\n",
    "    weight_set = w_set\n",
    "    elite_idx = e_id\n",
    "    sigma = sig\n",
    "    gamma = 1.0\n",
    "    max_t=1000\n",
    "    \n",
    "    score_deque = deque(maxlen=100)\n",
    "    scores = []\n",
    "    \n",
    "    best_weight = sigma * np.random.randn(agent.get_weights_dim())\n",
    "    \n",
    "    for i in range(episodes):\n",
    "        all_weights = [best_weight + (sigma*np.random.randn(agent.get_weights_dim())) for i in range(weight_set)]\n",
    "        all_rewards = np.array([agent.evaluate_weights(weight, 1.0, 1000) for weight in all_weights])\n",
    "#         print(all_rewards)\n",
    "        elite_wt_index = all_rewards.argsort()[-elite_idx:]\n",
    "        \n",
    "        elite_weights = [all_weights[index] for index in elite_wt_index]\n",
    "        \n",
    "        best_weight = np.array(elite_weights).mean(axis=0)\n",
    "        reward = agent.evaluate_weights(best_weight)\n",
    "        \n",
    "        score_deque.append(reward)\n",
    "        scores.append(reward)\n",
    "        torch.save(agent.state_dict(), 'checkpoint_mountainCont.pth')\n",
    "        print('\\rEpisode {}\\tAverage Score: {:.2f}\\tReward: {} '.format(i, np.mean(score_deque), reward), end=\"\")\n",
    "        \n",
    "        if i % 10 == 0:\n",
    "            print('\\rEpisode {}\\tAverage Score: {:.2f}'.format(i, np.mean(score_deque)), end=\"\")\n",
    "        if np.mean(score_deque) >= 90.0:\n",
    "            print('\\rEpisode terminated at {}, \\t with Average Score: {:.2f}'.format(i, np.mean(score_deque)), end=\"\")\n",
    "            break\n",
    "                  \n",
    "    return scores\n",
    "                  \n",
    "all_scores = cem()"
   ]
  },
  {
   "cell_type": "markdown",
   "metadata": {},
   "source": [
    "### 4. Watch a Smart Agent!\n",
    "\n",
    "In the next code cell, you will load the trained weights from file to watch a smart agent!\n",
    "If you trained your model on a gpu and testing it on a cpu - make sure you add the parameter of \n",
    "map_location when loading the model.\n",
    "\n",
    "I have also used gym's wrappers to record the environment states."
   ]
  },
  {
   "cell_type": "code",
   "execution_count": 8,
   "metadata": {},
   "outputs": [
    {
     "data": {
      "image/png": "[encoded data removed]",
      "text/plain": [
       "<Figure size 432x288 with 1 Axes>"
      ]
     },
     "metadata": {
      "needs_background": "light"
     },
     "output_type": "display_data"
    }
   ],
   "source": [
    "agent.load_state_dict(torch.load('checkpoint_mountainCont.pth', map_location='cpu'))\n",
    "\n",
    "\n",
    "env = wrappers.Monitor(env, 'mountainCar', force=True)\n",
    "state = env.reset()\n",
    "img = plt.imshow(env.render(mode='rgb_array'))\n",
    "while True:\n",
    "    \n",
    "    state = torch.from_numpy(state).float().to(device)\n",
    "    action = agent(state)\n",
    "    img.set_data(env.render(mode='rgb_array')) \n",
    "    plt.axis('off')\n",
    "    display.display(plt.gcf())\n",
    "    display.clear_output(wait=True)\n",
    "    state, reward, done, _ = env.step(action)\n",
    "#     epi_return += reward + math.pow(gamma, t)\n",
    "#     t += 1\n",
    "    if done:\n",
    "        break\n"
   ]
  },
  {
   "cell_type": "code",
   "execution_count": 9,
   "metadata": {},
   "outputs": [],
   "source": [
    "env.close()"
   ]
  },
  {
   "cell_type": "code",
   "execution_count": null,
   "metadata": {},
   "outputs": [],
   "source": []
  }
 ],
 "metadata": {
  "anaconda-cloud": {},
  "kernelspec": {
   "display_name": "Python 3",
   "language": "python",
   "name": "python3"
  },
  "language_info": {
   "codemirror_mode": {
    "name": "ipython",
    "version": 3
   },
   "file_extension": ".py",
   "mimetype": "text/x-python",
   "name": "python",
   "nbconvert_exporter": "python",
   "pygments_lexer": "ipython3",
   "version": "3.6.8"
  }
 },
 "nbformat": 4,
 "nbformat_minor": 2
}
